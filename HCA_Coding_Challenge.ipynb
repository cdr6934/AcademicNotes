{
  "nbformat": 4,
  "nbformat_minor": 0,
  "metadata": {
    "colab": {
      "name": "HCA Coding Challenge.ipynb",
      "provenance": [],
      "collapsed_sections": [],
      "authorship_tag": "ABX9TyM4ZDgk8YwGXB2qDqt2zV54",
      "include_colab_link": true
    },
    "kernelspec": {
      "name": "python3",
      "display_name": "Python 3"
    }
  },
  "cells": [
    {
      "cell_type": "markdown",
      "metadata": {
        "id": "view-in-github",
        "colab_type": "text"
      },
      "source": [
        "<a href=\"https://colab.research.google.com/github/cdr6934/AcademicNotes/blob/master/HCA_Coding_Challenge.ipynb\" target=\"_parent\"><img src=\"https://colab.research.google.com/assets/colab-badge.svg\" alt=\"Open In Colab\"/></a>"
      ]
    },
    {
      "cell_type": "markdown",
      "metadata": {
        "id": "a1-TpB38poyK",
        "colab_type": "text"
      },
      "source": [
        "# HCA Coding Challenge\n",
        "Christopher Ried \n",
        "2/25/2020"
      ]
    },
    {
      "cell_type": "code",
      "metadata": {
        "id": "MkKXav_6ZXzp",
        "colab_type": "code",
        "colab": {}
      },
      "source": [
        "import pandas as pd\n",
        "import numpy as np \n",
        "import datetime as dt\n",
        "import matplotlib.pyplot as plt"
      ],
      "execution_count": 0,
      "outputs": []
    },
    {
      "cell_type": "code",
      "metadata": {
        "id": "laQnaaacasj3",
        "colab_type": "code",
        "outputId": "ceb187cd-6e3e-4135-a046-120a927aad25",
        "colab": {
          "base_uri": "https://localhost:8080/",
          "height": 126
        }
      },
      "source": [
        "# Used to import data from drive to do analysis\n",
        "from google.colab import drive\n",
        "drive.mount('/content/drive')\n",
        "\n",
        "\n",
        "# Pandas options to ensure better control \n",
        "pd.options.mode.use_inf_as_na = True"
      ],
      "execution_count": 0,
      "outputs": [
        {
          "output_type": "stream",
          "text": [
            "Go to this URL in a browser: https://accounts.google.com/o/oauth2/auth?client_id=947318989803-6bn6qk8qdgf4n4g3pfee6491hc0brc4i.apps.googleusercontent.com&redirect_uri=urn%3aietf%3awg%3aoauth%3a2.0%3aoob&response_type=code&scope=email%20https%3a%2f%2fwww.googleapis.com%2fauth%2fdocs.test%20https%3a%2f%2fwww.googleapis.com%2fauth%2fdrive%20https%3a%2f%2fwww.googleapis.com%2fauth%2fdrive.photos.readonly%20https%3a%2f%2fwww.googleapis.com%2fauth%2fpeopleapi.readonly\n",
            "\n",
            "Enter your authorization code:\n",
            "··········\n",
            "Mounted at /content/drive\n"
          ],
          "name": "stdout"
        }
      ]
    },
    {
      "cell_type": "code",
      "metadata": {
        "id": "IPIUQpj5aE6p",
        "colab_type": "code",
        "colab": {}
      },
      "source": [
        "# Import data \n",
        "diabetes_ds = pd.read_csv('drive/My Drive/HCA Coding/diabetes_data.csv')\n"
      ],
      "execution_count": 0,
      "outputs": []
    },
    {
      "cell_type": "markdown",
      "metadata": {
        "id": "c-X_ILQLZxHA",
        "colab_type": "text"
      },
      "source": [
        "# Part 1: Data Analysis and Exploration \n"
      ]
    },
    {
      "cell_type": "markdown",
      "metadata": {
        "id": "i6csam3C5XSP",
        "colab_type": "text"
      },
      "source": [
        "Applied a few  transformations for the exercises to ensure the data will provide accurate information about the dataset. Using the IDs mapping append, I replaced some of the ids with null values to ensure to account for missing values within the dataset that might have a label but did not have any significance to the dataset directly. Now it can be inferred that a higher rate of nulls is due to a process improvement opportunity or deviation from standard procedure. "
      ]
    },
    {
      "cell_type": "code",
      "metadata": {
        "id": "Mvi-v7HX5k5S",
        "colab_type": "code",
        "colab": {}
      },
      "source": [
        "# Replaced ? with a NaN \n",
        "diabetes_ds = diabetes_ds.replace('?',np.NaN)\n",
        "\n",
        "diabetes_ds['admission_type_id']= diabetes_ds['admission_type_id'].replace(6,np.NaN)\n",
        "diabetes_ds['discharge_disposition_id'] = diabetes_ds['discharge_disposition_id'].replace([18,25,26],np.NaN)\n",
        "diabetes_ds['admission_source_id'] = diabetes_ds['admission_source_id'].replace([9,15,17],np.NaN)\n",
        "\n",
        "# Add a flag for readmissions to easily identify the objective for the model \n",
        "diabetes_ds[\"Readmissions\"] = diabetes_ds[\"readmitted\"].apply(lambda x: 1 if x == '<30' else 0)"
      ],
      "execution_count": 0,
      "outputs": []
    },
    {
      "cell_type": "markdown",
      "metadata": {
        "id": "y4u0sj8cZ8Lc",
        "colab_type": "text"
      },
      "source": [
        "## 1. How many rows and columns are in the dataset?"
      ]
    },
    {
      "cell_type": "code",
      "metadata": {
        "id": "kEFQfo6YZ8fi",
        "colab_type": "code",
        "outputId": "32ffe0cd-5a27-431b-a109-63d7f616ebe7",
        "colab": {
          "base_uri": "https://localhost:8080/",
          "height": 34
        }
      },
      "source": [
        "print(diabetes_ds.shape[0], \"rows and\", str(diabetes_ds.shape[1]), \"columns\")\n"
      ],
      "execution_count": 0,
      "outputs": [
        {
          "output_type": "stream",
          "text": [
            "101766 rows and 51 columns\n"
          ],
          "name": "stdout"
        }
      ]
    },
    {
      "cell_type": "markdown",
      "metadata": {
        "id": "GF1sTDDJrzMN",
        "colab_type": "text"
      },
      "source": [
        "## 2. How many men are represented in the data versus women?\n",
        "\n"
      ]
    },
    {
      "cell_type": "code",
      "metadata": {
        "id": "Yo7ub2Zwr7xT",
        "colab_type": "code",
        "outputId": "da89019e-8b9b-4322-dbfe-1ea4cbfd01ae",
        "colab": {
          "base_uri": "https://localhost:8080/",
          "height": 106
        }
      },
      "source": [
        "diabetes_ds.groupby(by='gender')['gender'].count()"
      ],
      "execution_count": 0,
      "outputs": [
        {
          "output_type": "execute_result",
          "data": {
            "text/plain": [
              "gender\n",
              "Female             54708\n",
              "Male               47055\n",
              "Unknown/Invalid        3\n",
              "Name: gender, dtype: int64"
            ]
          },
          "metadata": {
            "tags": []
          },
          "execution_count": 6
        }
      ]
    },
    {
      "cell_type": "markdown",
      "metadata": {
        "id": "UYdLFSIEsliS",
        "colab_type": "text"
      },
      "source": [
        "There are 47,055 (53.7%) male 54,708 (46.2%) female and 3 unknown or invalid patients. \n"
      ]
    },
    {
      "cell_type": "markdown",
      "metadata": {
        "id": "DrJtNalJuVbJ",
        "colab_type": "text"
      },
      "source": [
        "## 3. What percent of the patients are African American?\n",
        "\n",
        "\n",
        "\n",
        "\n"
      ]
    },
    {
      "cell_type": "code",
      "metadata": {
        "id": "hOzZm20wuZYP",
        "colab_type": "code",
        "outputId": "c5d47407-c91c-4735-8154-ce0f75f16c17",
        "colab": {
          "base_uri": "https://localhost:8080/",
          "height": 142
        }
      },
      "source": [
        "diabetes_ds.groupby(by='race')['race'].count().transform(lambda x: x/x.sum())"
      ],
      "execution_count": 0,
      "outputs": [
        {
          "output_type": "execute_result",
          "data": {
            "text/plain": [
              "race\n",
              "AfricanAmerican    0.193079\n",
              "Asian              0.006443\n",
              "Caucasian          0.764868\n",
              "Hispanic           0.020474\n",
              "Other              0.015137\n",
              "Name: race, dtype: float64"
            ]
          },
          "metadata": {
            "tags": []
          },
          "execution_count": 7
        }
      ]
    },
    {
      "cell_type": "markdown",
      "metadata": {
        "id": "MxLTlhrQugqt",
        "colab_type": "text"
      },
      "source": [
        "**There are 18.87% African American patients in the dataset.**"
      ]
    },
    {
      "cell_type": "markdown",
      "metadata": {
        "id": "KjMU3Kxeu91e",
        "colab_type": "text"
      },
      "source": [
        "#4. What is the approximate average age of female patients in the dataset? Of male patients?"
      ]
    },
    {
      "cell_type": "code",
      "metadata": {
        "id": "NQb6PIdVuuba",
        "colab_type": "code",
        "outputId": "36a0b8ba-36e2-48e6-efe9-3739ab181d7a",
        "colab": {
          "base_uri": "https://localhost:8080/",
          "height": 106
        }
      },
      "source": [
        "now = pd.to_datetime('now')\n",
        "diabetes_ds['birth_date'] = pd.to_datetime(diabetes_ds['birth_date'], errors='coerce')\n",
        "diabetes_ds['age'] = (now-diabetes_ds['birth_date']).astype('<m8[Y]')\n",
        "diabetes_ds.groupby(by='gender')['age'].mean()"
      ],
      "execution_count": 0,
      "outputs": [
        {
          "output_type": "execute_result",
          "data": {
            "text/plain": [
              "gender\n",
              "Female             82.106054\n",
              "Male               80.575816\n",
              "Unknown/Invalid    84.000000\n",
              "Name: age, dtype: float64"
            ]
          },
          "metadata": {
            "tags": []
          },
          "execution_count": 156
        }
      ]
    },
    {
      "cell_type": "markdown",
      "metadata": {
        "id": "HEn-mgJI1BPa",
        "colab_type": "text"
      },
      "source": [
        "**The average age of female patients is 82.1 years and 80.5 years for male patients**"
      ]
    },
    {
      "cell_type": "markdown",
      "metadata": {
        "id": "7A6qU0HgwmWp",
        "colab_type": "text"
      },
      "source": [
        "## 5. Which features have more than 50% missing data?"
      ]
    },
    {
      "cell_type": "code",
      "metadata": {
        "id": "guqra-2Iu62A",
        "colab_type": "code",
        "outputId": "bebb2f70-ae2a-4e61-872c-f2d959fb9c7f",
        "colab": {
          "base_uri": "https://localhost:8080/",
          "height": 52
        }
      },
      "source": [
        "missing_data_pct = diabetes_ds.isna().sum().transform(lambda x: x / diabetes_ds.shape[0])\n",
        "missing_data_pct[missing_data_pct >= 0.5]\n"
      ],
      "execution_count": 0,
      "outputs": [
        {
          "output_type": "execute_result",
          "data": {
            "text/plain": [
              "weight    0.968585\n",
              "dtype: float64"
            ]
          },
          "metadata": {
            "tags": []
          },
          "execution_count": 116
        }
      ]
    },
    {
      "cell_type": "markdown",
      "metadata": {
        "id": "iR304vcC8Wpn",
        "colab_type": "text"
      },
      "source": [
        "There is one feature where there is more than 50% missing data - **weight**"
      ]
    },
    {
      "cell_type": "markdown",
      "metadata": {
        "id": "bUDjJ0rnwn4a",
        "colab_type": "text"
      },
      "source": [
        "##6. Write a function to remove features from the dataset that have a high proportion of missing values."
      ]
    },
    {
      "cell_type": "code",
      "metadata": {
        "id": "U7j_lDRE3IZG",
        "colab_type": "code",
        "colab": {}
      },
      "source": [
        "\n",
        "def remove_features(dataset, prop_missing):\n",
        "  \"\"\"Removes columns where there are a high proportion of missing values \"\"\"\n",
        "  new_dataset = dataset\n",
        "  for col in dataset.columns:\n",
        "    missing_data_pct = dataset[[col]].isna().sum().transform(lambda x: x / dataset.shape[0])[0]\n",
        "    if missing_data_pct > prop_missing:\n",
        "      new_dataset = new_dataset.drop(columns=[col])\n",
        "     # print(missing_data_pct)\n",
        "    # missing_list = missing_data_pct[missing_data_pct >= prop_missing]\n",
        "  return new_dataset\n"
      ],
      "execution_count": 0,
      "outputs": []
    },
    {
      "cell_type": "markdown",
      "metadata": {
        "id": "XSKEjwmr3IhS",
        "colab_type": "text"
      },
      "source": [
        "# 7. The business owner you are working with is concerned about patients who are readmitted within 30 days. She wants to know which medical specialty has the biggest problem with these readmissions. What do you tell her?"
      ]
    },
    {
      "cell_type": "code",
      "metadata": {
        "id": "OrLxYLhC6iV1",
        "colab_type": "code",
        "outputId": "039cc37c-5fa2-40de-f9df-db54e2586f8a",
        "colab": {
          "base_uri": "https://localhost:8080/",
          "height": 360
        }
      },
      "source": [
        "# Based on highest readmission instances which would be based on volume \n",
        "pd_diabetes_ds = diabetes_ds.groupby(by=['medical_specialty']).agg(total_readmissions=pd.NamedAgg(column='Readmissions', aggfunc='sum'),\n",
        "                                                                   total_instances=pd.NamedAgg(column='Readmissions', aggfunc='count'))\n",
        "pd_diabetes_ds['ReadmissionProportions'] = pd_diabetes_ds['total_readmissions'] / pd_diabetes_ds['total_instances']\n",
        "\n",
        "pd_diabetes_ds.sort_values(by = 'ReadmissionProportions', ascending=False).head(10)"
      ],
      "execution_count": 0,
      "outputs": [
        {
          "output_type": "execute_result",
          "data": {
            "text/html": [
              "<div>\n",
              "<style scoped>\n",
              "    .dataframe tbody tr th:only-of-type {\n",
              "        vertical-align: middle;\n",
              "    }\n",
              "\n",
              "    .dataframe tbody tr th {\n",
              "        vertical-align: top;\n",
              "    }\n",
              "\n",
              "    .dataframe thead th {\n",
              "        text-align: right;\n",
              "    }\n",
              "</style>\n",
              "<table border=\"1\" class=\"dataframe\">\n",
              "  <thead>\n",
              "    <tr style=\"text-align: right;\">\n",
              "      <th></th>\n",
              "      <th>total_readmissions</th>\n",
              "      <th>total_instances</th>\n",
              "      <th>ReadmissionProportions</th>\n",
              "    </tr>\n",
              "    <tr>\n",
              "      <th>medical_specialty</th>\n",
              "      <th></th>\n",
              "      <th></th>\n",
              "      <th></th>\n",
              "    </tr>\n",
              "  </thead>\n",
              "  <tbody>\n",
              "    <tr>\n",
              "      <th>Resident</th>\n",
              "      <td>1</td>\n",
              "      <td>2</td>\n",
              "      <td>0.500000</td>\n",
              "    </tr>\n",
              "    <tr>\n",
              "      <th>AllergyandImmunology</th>\n",
              "      <td>3</td>\n",
              "      <td>7</td>\n",
              "      <td>0.428571</td>\n",
              "    </tr>\n",
              "    <tr>\n",
              "      <th>Hematology</th>\n",
              "      <td>26</td>\n",
              "      <td>82</td>\n",
              "      <td>0.317073</td>\n",
              "    </tr>\n",
              "    <tr>\n",
              "      <th>Pediatrics-Hematology-Oncology</th>\n",
              "      <td>1</td>\n",
              "      <td>4</td>\n",
              "      <td>0.250000</td>\n",
              "    </tr>\n",
              "    <tr>\n",
              "      <th>InfectiousDiseases</th>\n",
              "      <td>8</td>\n",
              "      <td>37</td>\n",
              "      <td>0.216216</td>\n",
              "    </tr>\n",
              "    <tr>\n",
              "      <th>Hematology/Oncology</th>\n",
              "      <td>40</td>\n",
              "      <td>207</td>\n",
              "      <td>0.193237</td>\n",
              "    </tr>\n",
              "    <tr>\n",
              "      <th>Oncology</th>\n",
              "      <td>66</td>\n",
              "      <td>348</td>\n",
              "      <td>0.189655</td>\n",
              "    </tr>\n",
              "    <tr>\n",
              "      <th>PhysicianNotFound</th>\n",
              "      <td>2</td>\n",
              "      <td>11</td>\n",
              "      <td>0.181818</td>\n",
              "    </tr>\n",
              "    <tr>\n",
              "      <th>Rheumatology</th>\n",
              "      <td>3</td>\n",
              "      <td>17</td>\n",
              "      <td>0.176471</td>\n",
              "    </tr>\n",
              "    <tr>\n",
              "      <th>Surgery-Plastic</th>\n",
              "      <td>7</td>\n",
              "      <td>41</td>\n",
              "      <td>0.170732</td>\n",
              "    </tr>\n",
              "  </tbody>\n",
              "</table>\n",
              "</div>"
            ],
            "text/plain": [
              "                                total_readmissions  ...  ReadmissionProportions\n",
              "medical_specialty                                   ...                        \n",
              "Resident                                         1  ...                0.500000\n",
              "AllergyandImmunology                             3  ...                0.428571\n",
              "Hematology                                      26  ...                0.317073\n",
              "Pediatrics-Hematology-Oncology                   1  ...                0.250000\n",
              "InfectiousDiseases                               8  ...                0.216216\n",
              "Hematology/Oncology                             40  ...                0.193237\n",
              "Oncology                                        66  ...                0.189655\n",
              "PhysicianNotFound                                2  ...                0.181818\n",
              "Rheumatology                                     3  ...                0.176471\n",
              "Surgery-Plastic                                  7  ...                0.170732\n",
              "\n",
              "[10 rows x 3 columns]"
            ]
          },
          "metadata": {
            "tags": []
          },
          "execution_count": 158
        }
      ]
    },
    {
      "cell_type": "code",
      "metadata": {
        "id": "VnA-SPTTeDkV",
        "colab_type": "code",
        "outputId": "888c92b0-6bb7-46ea-8b43-854ff66912c4",
        "colab": {
          "base_uri": "https://localhost:8080/",
          "height": 360
        }
      },
      "source": [
        "# Based on highest proportion of readmission based on medical specialty \n",
        "pd_diabetes_ds.sort_values(by = 'total_instances', ascending=False).head(10)"
      ],
      "execution_count": 0,
      "outputs": [
        {
          "output_type": "execute_result",
          "data": {
            "text/html": [
              "<div>\n",
              "<style scoped>\n",
              "    .dataframe tbody tr th:only-of-type {\n",
              "        vertical-align: middle;\n",
              "    }\n",
              "\n",
              "    .dataframe tbody tr th {\n",
              "        vertical-align: top;\n",
              "    }\n",
              "\n",
              "    .dataframe thead th {\n",
              "        text-align: right;\n",
              "    }\n",
              "</style>\n",
              "<table border=\"1\" class=\"dataframe\">\n",
              "  <thead>\n",
              "    <tr style=\"text-align: right;\">\n",
              "      <th></th>\n",
              "      <th>total_readmissions</th>\n",
              "      <th>total_instances</th>\n",
              "      <th>ReadmissionProportions</th>\n",
              "    </tr>\n",
              "    <tr>\n",
              "      <th>medical_specialty</th>\n",
              "      <th></th>\n",
              "      <th></th>\n",
              "      <th></th>\n",
              "    </tr>\n",
              "  </thead>\n",
              "  <tbody>\n",
              "    <tr>\n",
              "      <th>InternalMedicine</th>\n",
              "      <td>1646</td>\n",
              "      <td>14635</td>\n",
              "      <td>0.112470</td>\n",
              "    </tr>\n",
              "    <tr>\n",
              "      <th>Emergency/Trauma</th>\n",
              "      <td>846</td>\n",
              "      <td>7565</td>\n",
              "      <td>0.111831</td>\n",
              "    </tr>\n",
              "    <tr>\n",
              "      <th>Family/GeneralPractice</th>\n",
              "      <td>883</td>\n",
              "      <td>7440</td>\n",
              "      <td>0.118683</td>\n",
              "    </tr>\n",
              "    <tr>\n",
              "      <th>Cardiology</th>\n",
              "      <td>425</td>\n",
              "      <td>5352</td>\n",
              "      <td>0.079410</td>\n",
              "    </tr>\n",
              "    <tr>\n",
              "      <th>Surgery-General</th>\n",
              "      <td>342</td>\n",
              "      <td>3099</td>\n",
              "      <td>0.110358</td>\n",
              "    </tr>\n",
              "    <tr>\n",
              "      <th>Nephrology</th>\n",
              "      <td>248</td>\n",
              "      <td>1613</td>\n",
              "      <td>0.153751</td>\n",
              "    </tr>\n",
              "    <tr>\n",
              "      <th>Orthopedics</th>\n",
              "      <td>151</td>\n",
              "      <td>1400</td>\n",
              "      <td>0.107857</td>\n",
              "    </tr>\n",
              "    <tr>\n",
              "      <th>Orthopedics-Reconstructive</th>\n",
              "      <td>92</td>\n",
              "      <td>1233</td>\n",
              "      <td>0.074615</td>\n",
              "    </tr>\n",
              "    <tr>\n",
              "      <th>Radiologist</th>\n",
              "      <td>103</td>\n",
              "      <td>1140</td>\n",
              "      <td>0.090351</td>\n",
              "    </tr>\n",
              "    <tr>\n",
              "      <th>Pulmonology</th>\n",
              "      <td>96</td>\n",
              "      <td>871</td>\n",
              "      <td>0.110218</td>\n",
              "    </tr>\n",
              "  </tbody>\n",
              "</table>\n",
              "</div>"
            ],
            "text/plain": [
              "                            total_readmissions  ...  ReadmissionProportions\n",
              "medical_specialty                               ...                        \n",
              "InternalMedicine                          1646  ...                0.112470\n",
              "Emergency/Trauma                           846  ...                0.111831\n",
              "Family/GeneralPractice                     883  ...                0.118683\n",
              "Cardiology                                 425  ...                0.079410\n",
              "Surgery-General                            342  ...                0.110358\n",
              "Nephrology                                 248  ...                0.153751\n",
              "Orthopedics                                151  ...                0.107857\n",
              "Orthopedics-Reconstructive                  92  ...                0.074615\n",
              "Radiologist                                103  ...                0.090351\n",
              "Pulmonology                                 96  ...                0.110218\n",
              "\n",
              "[10 rows x 3 columns]"
            ]
          },
          "metadata": {
            "tags": []
          },
          "execution_count": 159
        }
      ]
    },
    {
      "cell_type": "markdown",
      "metadata": {
        "id": "KoWup09-eIek",
        "colab_type": "text"
      },
      "source": [
        "There are two parts to the question; first off in aggregate the total readmissions would be from Internal Medicine; however this is due to the sheer volume of instances which has a rate of 11.2% readmittance. Your greatest offenders start with Resident at 50% where n = 2; however due to the low count it is too small to be significant as would Allergy and Immunology.  More data would need to be collected to verfy these rates. The lead from a rate basis would be Hematology, which comes up 6th place (19.3%) and connected with Oncology in 6th and 7th. \n",
        "\n",
        "Thus hematology / oncology would be the biggest problem based on the information.  Terminal illness intuitively would have a higher rate of readmission due to immunocompromise, and aggressiveness of the carcinoma. \n",
        "\n",
        "I'd also would like to further ask the question such as: \n",
        "* Is the cost of readmission similar by speciality; or are there other more taxing?"
      ]
    },
    {
      "cell_type": "markdown",
      "metadata": {
        "id": "v52YQKFZ6idZ",
        "colab_type": "text"
      },
      "source": [
        "# Part 2: Build a Model"
      ]
    },
    {
      "cell_type": "code",
      "metadata": {
        "id": "Aue4467hHgR6",
        "colab_type": "code",
        "outputId": "079f9fc9-d67b-4a2b-fdd3-8d4d239df679",
        "colab": {
          "base_uri": "https://localhost:8080/",
          "height": 892
        }
      },
      "source": [
        "ds.hist(bins=50, figsize=(20,15))\n",
        "plt.show()"
      ],
      "execution_count": 0,
      "outputs": [
        {
          "output_type": "display_data",
          "data": {
            "image/png": "[encoded data removed]",
            "text/plain": [
              "<Figure size 1440x1080 with 16 Axes>"
            ]
          },
          "metadata": {
            "tags": []
          }
        }
      ]
    },
    {
      "cell_type": "markdown",
      "metadata": {
        "id": "Nu2FpIy_oDb7",
        "colab_type": "text"
      },
      "source": [
        "### Questions to ask:\n",
        "* There are some patients in the dataset who have been admitted on more than one ocassion. Should such a model be based on observations independent of the patient? I would say here is an opportunity to confirm the occurences.  \n",
        "\n",
        "\n",
        "### Things of note: \n",
        "* Age you have a number of different spikes within the ages of 70,80,85... these may be due to certain checkups \n",
        "* time_in_hospital has a pareto distribution (edit: actually this might be more of a normal distribution but heavily skewed) \n",
        "* The encounter_id has nothing to do with the distribution as it only the encounter occurence. \n",
        " "
      ]
    },
    {
      "cell_type": "markdown",
      "metadata": {
        "id": "SD5dBVcy6mLt",
        "colab_type": "text"
      },
      "source": [
        "## Build a predictive model to identify patients at risk of readmitting within 30 days. Evaluate your model."
      ]
    },
    {
      "cell_type": "code",
      "metadata": {
        "id": "TIZpkJ3vgpSU",
        "colab_type": "code",
        "colab": {}
      },
      "source": [
        "# All imported models \n",
        "from sklearn.model_selection import train_test_split\n",
        "from sklearn.linear_model import LogisticRegression\n",
        "from sklearn.preprocessing import LabelEncoder\n",
        "from sklearn.metrics import r2_score, mean_squared_error\n",
        "from sklearn.impute import SimpleImputer\n",
        "from sklearn import linear_model\n",
        "import sklearn as sk"
      ],
      "execution_count": 0,
      "outputs": []
    },
    {
      "cell_type": "code",
      "metadata": {
        "id": "pZEEEr6igUzr",
        "colab_type": "code",
        "colab": {}
      },
      "source": [
        "# Removing certain features to use high signal information  (using the above function)\n",
        "diabetes_ds_test = diabetes_ds\n",
        "ds = remove_features(diabetes_ds_test, 0.5)\n",
        "\n",
        "\n",
        "# Identify categorical features and convert to factors using LabelEncoder\n",
        "object_df = ds.select_dtypes(include=['object']).copy()\n",
        "object_df = object_df.replace(np.nan, \"NaN\")\n",
        "\n",
        "lb_make = LabelEncoder()\n",
        "for col in object_df.columns:\n",
        "  object_df[col] = lb_make.fit_transform(object_df[col])\n",
        "\n",
        "y_pre =  pd.DataFrame(ds['Readmissions'])\n",
        "\n",
        "int_features = ds.select_dtypes(include=['int64']).copy()\n",
        "int_features = int_features.drop(['Readmissions'], axis=1)\n",
        "\n",
        "#Create label encoded features \n",
        "trail_data = y_pre.join(object_df)\n",
        "trail_data = trail_data.join(ds.select_dtypes(include=['float64']).copy()) \n",
        "trail_data = trail_data.join(int_features) \n",
        "\n",
        "\n",
        "# Take and imput the mean \n",
        "imp = SimpleImputer(missing_values=np.nan, strategy='mean')\n",
        "imp.fit(trail_data)\n",
        "trail_data_inf = imp.transform(trail_data)\n",
        "trail_data  = pd.DataFrame(trail_data_inf, columns= trail_data.columns.values)\n",
        "\n",
        "# Drop features that may not be important to the \n",
        "trail_data = trail_data.drop(['admit_date','encounter_id','patient_nbr','admission_source_id','examide','citoglipton'], axis=1)\n",
        "\n",
        "#Create / morph data for model absorption\n",
        "y = trail_data['Readmissions']\n",
        "X = trail_data.loc[:,trail_data.columns != 'Readmissions']\n",
        "\n",
        "# Split data into train and test sets \n",
        "X_train, X_test, y_train, y_test = sk.model_selection.train_test_split(X, y, random_state=0)\n",
        "\n",
        "\n"
      ],
      "execution_count": 0,
      "outputs": []
    },
    {
      "cell_type": "markdown",
      "metadata": {
        "id": "9SCxKi3CEUQ7",
        "colab_type": "text"
      },
      "source": [
        "## EDA"
      ]
    },
    {
      "cell_type": "code",
      "metadata": {
        "id": "39cfm4srPNxF",
        "colab_type": "code",
        "outputId": "fa80150f-01b1-4333-ed31-fb2371ae8c13",
        "colab": {
          "base_uri": "https://localhost:8080/",
          "height": 311
        }
      },
      "source": [
        "trail_data.describe()\n"
      ],
      "execution_count": 0,
      "outputs": [
        {
          "output_type": "execute_result",
          "data": {
            "text/html": [
              "<div>\n",
              "<style scoped>\n",
              "    .dataframe tbody tr th:only-of-type {\n",
              "        vertical-align: middle;\n",
              "    }\n",
              "\n",
              "    .dataframe tbody tr th {\n",
              "        vertical-align: top;\n",
              "    }\n",
              "\n",
              "    .dataframe thead th {\n",
              "        text-align: right;\n",
              "    }\n",
              "</style>\n",
              "<table border=\"1\" class=\"dataframe\">\n",
              "  <thead>\n",
              "    <tr style=\"text-align: right;\">\n",
              "      <th></th>\n",
              "      <th>Readmissions</th>\n",
              "      <th>race</th>\n",
              "      <th>gender</th>\n",
              "      <th>payer_code</th>\n",
              "      <th>medical_specialty</th>\n",
              "      <th>diag_1</th>\n",
              "      <th>diag_2</th>\n",
              "      <th>diag_3</th>\n",
              "      <th>max_glu_serum</th>\n",
              "      <th>A1Cresult</th>\n",
              "      <th>metformin</th>\n",
              "      <th>repaglinide</th>\n",
              "      <th>nateglinide</th>\n",
              "      <th>chlorpropamide</th>\n",
              "      <th>glimepiride</th>\n",
              "      <th>acetohexamide</th>\n",
              "      <th>glipizide</th>\n",
              "      <th>glyburide</th>\n",
              "      <th>tolbutamide</th>\n",
              "      <th>pioglitazone</th>\n",
              "      <th>rosiglitazone</th>\n",
              "      <th>acarbose</th>\n",
              "      <th>miglitol</th>\n",
              "      <th>troglitazone</th>\n",
              "      <th>tolazamide</th>\n",
              "      <th>insulin</th>\n",
              "      <th>glyburide-metformin</th>\n",
              "      <th>glipizide-metformin</th>\n",
              "      <th>glimepiride-pioglitazone</th>\n",
              "      <th>metformin-rosiglitazone</th>\n",
              "      <th>metformin-pioglitazone</th>\n",
              "      <th>change</th>\n",
              "      <th>diabetesMed</th>\n",
              "      <th>readmitted</th>\n",
              "      <th>admission_type_id</th>\n",
              "      <th>discharge_disposition_id</th>\n",
              "      <th>age</th>\n",
              "      <th>time_in_hospital</th>\n",
              "      <th>num_lab_procedures</th>\n",
              "      <th>num_procedures</th>\n",
              "      <th>num_medications</th>\n",
              "      <th>number_outpatient</th>\n",
              "      <th>number_emergency</th>\n",
              "      <th>number_diagnoses</th>\n",
              "    </tr>\n",
              "  </thead>\n",
              "  <tbody>\n",
              "    <tr>\n",
              "      <th>count</th>\n",
              "      <td>101766.000000</td>\n",
              "      <td>101766.000000</td>\n",
              "      <td>101766.000000</td>\n",
              "      <td>101766.000000</td>\n",
              "      <td>101766.000000</td>\n",
              "      <td>101766.000000</td>\n",
              "      <td>101766.000000</td>\n",
              "      <td>101766.000000</td>\n",
              "      <td>101766.000000</td>\n",
              "      <td>101766.000000</td>\n",
              "      <td>101766.000000</td>\n",
              "      <td>101766.000000</td>\n",
              "      <td>101766.000000</td>\n",
              "      <td>101766.000000</td>\n",
              "      <td>101766.000000</td>\n",
              "      <td>101766.000000</td>\n",
              "      <td>101766.000000</td>\n",
              "      <td>101766.000000</td>\n",
              "      <td>101766.000000</td>\n",
              "      <td>101766.000000</td>\n",
              "      <td>101766.000000</td>\n",
              "      <td>101766.000000</td>\n",
              "      <td>101766.000000</td>\n",
              "      <td>101766.000000</td>\n",
              "      <td>101766.000000</td>\n",
              "      <td>101766.000000</td>\n",
              "      <td>101766.000000</td>\n",
              "      <td>101766.000000</td>\n",
              "      <td>101766.000000</td>\n",
              "      <td>101766.000000</td>\n",
              "      <td>101766.000000</td>\n",
              "      <td>101766.000000</td>\n",
              "      <td>101766.000000</td>\n",
              "      <td>101766.000000</td>\n",
              "      <td>101766.000000</td>\n",
              "      <td>101766.000000</td>\n",
              "      <td>101766.000000</td>\n",
              "      <td>101766.000000</td>\n",
              "      <td>101766.000000</td>\n",
              "      <td>101766.000000</td>\n",
              "      <td>101766.000000</td>\n",
              "      <td>101766.000000</td>\n",
              "      <td>101766.000000</td>\n",
              "      <td>101766.000000</td>\n",
              "    </tr>\n",
              "    <tr>\n",
              "      <th>mean</th>\n",
              "      <td>0.111599</td>\n",
              "      <td>1.725252</td>\n",
              "      <td>0.462443</td>\n",
              "      <td>8.328921</td>\n",
              "      <td>20.678960</td>\n",
              "      <td>336.864562</td>\n",
              "      <td>277.999843</td>\n",
              "      <td>287.396183</td>\n",
              "      <td>1.983914</td>\n",
              "      <td>1.893383</td>\n",
              "      <td>1.195596</td>\n",
              "      <td>1.015319</td>\n",
              "      <td>1.006928</td>\n",
              "      <td>1.000884</td>\n",
              "      <td>1.050410</td>\n",
              "      <td>0.000010</td>\n",
              "      <td>1.121219</td>\n",
              "      <td>1.101547</td>\n",
              "      <td>0.000226</td>\n",
              "      <td>1.071989</td>\n",
              "      <td>1.062585</td>\n",
              "      <td>1.003066</td>\n",
              "      <td>1.000295</td>\n",
              "      <td>0.000029</td>\n",
              "      <td>0.000393</td>\n",
              "      <td>1.405469</td>\n",
              "      <td>1.006898</td>\n",
              "      <td>0.000128</td>\n",
              "      <td>0.000010</td>\n",
              "      <td>0.000020</td>\n",
              "      <td>0.000010</td>\n",
              "      <td>0.538048</td>\n",
              "      <td>0.770031</td>\n",
              "      <td>1.427520</td>\n",
              "      <td>1.805950</td>\n",
              "      <td>2.955761</td>\n",
              "      <td>81.398552</td>\n",
              "      <td>4.395987</td>\n",
              "      <td>43.095641</td>\n",
              "      <td>1.339730</td>\n",
              "      <td>16.021844</td>\n",
              "      <td>0.369357</td>\n",
              "      <td>0.197836</td>\n",
              "      <td>7.422607</td>\n",
              "    </tr>\n",
              "    <tr>\n",
              "      <th>std</th>\n",
              "      <td>0.314874</td>\n",
              "      <td>0.963553</td>\n",
              "      <td>0.498649</td>\n",
              "      <td>3.280405</td>\n",
              "      <td>13.573144</td>\n",
              "      <td>160.650511</td>\n",
              "      <td>154.817974</td>\n",
              "      <td>183.119311</td>\n",
              "      <td>0.309922</td>\n",
              "      <td>0.517917</td>\n",
              "      <td>0.435442</td>\n",
              "      <td>0.134652</td>\n",
              "      <td>0.086992</td>\n",
              "      <td>0.031956</td>\n",
              "      <td>0.241057</td>\n",
              "      <td>0.003135</td>\n",
              "      <td>0.364232</td>\n",
              "      <td>0.343916</td>\n",
              "      <td>0.015032</td>\n",
              "      <td>0.271523</td>\n",
              "      <td>0.252738</td>\n",
              "      <td>0.057550</td>\n",
              "      <td>0.020791</td>\n",
              "      <td>0.005429</td>\n",
              "      <td>0.020312</td>\n",
              "      <td>0.838798</td>\n",
              "      <td>0.084414</td>\n",
              "      <td>0.011302</td>\n",
              "      <td>0.003135</td>\n",
              "      <td>0.004433</td>\n",
              "      <td>0.003135</td>\n",
              "      <td>0.498553</td>\n",
              "      <td>0.420815</td>\n",
              "      <td>0.684068</td>\n",
              "      <td>1.105527</td>\n",
              "      <td>3.940302</td>\n",
              "      <td>16.448028</td>\n",
              "      <td>2.985108</td>\n",
              "      <td>19.674362</td>\n",
              "      <td>1.705807</td>\n",
              "      <td>8.127566</td>\n",
              "      <td>1.267265</td>\n",
              "      <td>0.930472</td>\n",
              "      <td>1.933600</td>\n",
              "    </tr>\n",
              "    <tr>\n",
              "      <th>min</th>\n",
              "      <td>0.000000</td>\n",
              "      <td>0.000000</td>\n",
              "      <td>0.000000</td>\n",
              "      <td>0.000000</td>\n",
              "      <td>0.000000</td>\n",
              "      <td>0.000000</td>\n",
              "      <td>0.000000</td>\n",
              "      <td>0.000000</td>\n",
              "      <td>0.000000</td>\n",
              "      <td>0.000000</td>\n",
              "      <td>0.000000</td>\n",
              "      <td>0.000000</td>\n",
              "      <td>0.000000</td>\n",
              "      <td>0.000000</td>\n",
              "      <td>0.000000</td>\n",
              "      <td>0.000000</td>\n",
              "      <td>0.000000</td>\n",
              "      <td>0.000000</td>\n",
              "      <td>0.000000</td>\n",
              "      <td>0.000000</td>\n",
              "      <td>0.000000</td>\n",
              "      <td>0.000000</td>\n",
              "      <td>0.000000</td>\n",
              "      <td>0.000000</td>\n",
              "      <td>0.000000</td>\n",
              "      <td>0.000000</td>\n",
              "      <td>0.000000</td>\n",
              "      <td>0.000000</td>\n",
              "      <td>0.000000</td>\n",
              "      <td>0.000000</td>\n",
              "      <td>0.000000</td>\n",
              "      <td>0.000000</td>\n",
              "      <td>0.000000</td>\n",
              "      <td>0.000000</td>\n",
              "      <td>1.000000</td>\n",
              "      <td>1.000000</td>\n",
              "      <td>12.000000</td>\n",
              "      <td>1.000000</td>\n",
              "      <td>1.000000</td>\n",
              "      <td>0.000000</td>\n",
              "      <td>1.000000</td>\n",
              "      <td>0.000000</td>\n",
              "      <td>0.000000</td>\n",
              "      <td>1.000000</td>\n",
              "    </tr>\n",
              "    <tr>\n",
              "      <th>25%</th>\n",
              "      <td>0.000000</td>\n",
              "      <td>2.000000</td>\n",
              "      <td>0.000000</td>\n",
              "      <td>7.000000</td>\n",
              "      <td>18.000000</td>\n",
              "      <td>259.000000</td>\n",
              "      <td>142.000000</td>\n",
              "      <td>139.000000</td>\n",
              "      <td>2.000000</td>\n",
              "      <td>2.000000</td>\n",
              "      <td>1.000000</td>\n",
              "      <td>1.000000</td>\n",
              "      <td>1.000000</td>\n",
              "      <td>1.000000</td>\n",
              "      <td>1.000000</td>\n",
              "      <td>0.000000</td>\n",
              "      <td>1.000000</td>\n",
              "      <td>1.000000</td>\n",
              "      <td>0.000000</td>\n",
              "      <td>1.000000</td>\n",
              "      <td>1.000000</td>\n",
              "      <td>1.000000</td>\n",
              "      <td>1.000000</td>\n",
              "      <td>0.000000</td>\n",
              "      <td>0.000000</td>\n",
              "      <td>1.000000</td>\n",
              "      <td>1.000000</td>\n",
              "      <td>0.000000</td>\n",
              "      <td>0.000000</td>\n",
              "      <td>0.000000</td>\n",
              "      <td>0.000000</td>\n",
              "      <td>0.000000</td>\n",
              "      <td>1.000000</td>\n",
              "      <td>1.000000</td>\n",
              "      <td>1.000000</td>\n",
              "      <td>1.000000</td>\n",
              "      <td>71.000000</td>\n",
              "      <td>2.000000</td>\n",
              "      <td>31.000000</td>\n",
              "      <td>0.000000</td>\n",
              "      <td>10.000000</td>\n",
              "      <td>0.000000</td>\n",
              "      <td>0.000000</td>\n",
              "      <td>6.000000</td>\n",
              "    </tr>\n",
              "    <tr>\n",
              "      <th>50%</th>\n",
              "      <td>0.000000</td>\n",
              "      <td>2.000000</td>\n",
              "      <td>0.000000</td>\n",
              "      <td>8.000000</td>\n",
              "      <td>19.000000</td>\n",
              "      <td>298.000000</td>\n",
              "      <td>260.000000</td>\n",
              "      <td>256.000000</td>\n",
              "      <td>2.000000</td>\n",
              "      <td>2.000000</td>\n",
              "      <td>1.000000</td>\n",
              "      <td>1.000000</td>\n",
              "      <td>1.000000</td>\n",
              "      <td>1.000000</td>\n",
              "      <td>1.000000</td>\n",
              "      <td>0.000000</td>\n",
              "      <td>1.000000</td>\n",
              "      <td>1.000000</td>\n",
              "      <td>0.000000</td>\n",
              "      <td>1.000000</td>\n",
              "      <td>1.000000</td>\n",
              "      <td>1.000000</td>\n",
              "      <td>1.000000</td>\n",
              "      <td>0.000000</td>\n",
              "      <td>0.000000</td>\n",
              "      <td>1.000000</td>\n",
              "      <td>1.000000</td>\n",
              "      <td>0.000000</td>\n",
              "      <td>0.000000</td>\n",
              "      <td>0.000000</td>\n",
              "      <td>0.000000</td>\n",
              "      <td>1.000000</td>\n",
              "      <td>1.000000</td>\n",
              "      <td>2.000000</td>\n",
              "      <td>1.000000</td>\n",
              "      <td>1.000000</td>\n",
              "      <td>83.000000</td>\n",
              "      <td>4.000000</td>\n",
              "      <td>44.000000</td>\n",
              "      <td>1.000000</td>\n",
              "      <td>15.000000</td>\n",
              "      <td>0.000000</td>\n",
              "      <td>0.000000</td>\n",
              "      <td>8.000000</td>\n",
              "    </tr>\n",
              "    <tr>\n",
              "      <th>75%</th>\n",
              "      <td>0.000000</td>\n",
              "      <td>2.000000</td>\n",
              "      <td>1.000000</td>\n",
              "      <td>10.000000</td>\n",
              "      <td>19.000000</td>\n",
              "      <td>435.000000</td>\n",
              "      <td>376.000000</td>\n",
              "      <td>381.000000</td>\n",
              "      <td>2.000000</td>\n",
              "      <td>2.000000</td>\n",
              "      <td>1.000000</td>\n",
              "      <td>1.000000</td>\n",
              "      <td>1.000000</td>\n",
              "      <td>1.000000</td>\n",
              "      <td>1.000000</td>\n",
              "      <td>0.000000</td>\n",
              "      <td>1.000000</td>\n",
              "      <td>1.000000</td>\n",
              "      <td>0.000000</td>\n",
              "      <td>1.000000</td>\n",
              "      <td>1.000000</td>\n",
              "      <td>1.000000</td>\n",
              "      <td>1.000000</td>\n",
              "      <td>0.000000</td>\n",
              "      <td>0.000000</td>\n",
              "      <td>2.000000</td>\n",
              "      <td>1.000000</td>\n",
              "      <td>0.000000</td>\n",
              "      <td>0.000000</td>\n",
              "      <td>0.000000</td>\n",
              "      <td>0.000000</td>\n",
              "      <td>1.000000</td>\n",
              "      <td>1.000000</td>\n",
              "      <td>2.000000</td>\n",
              "      <td>2.000000</td>\n",
              "      <td>3.000000</td>\n",
              "      <td>94.000000</td>\n",
              "      <td>6.000000</td>\n",
              "      <td>57.000000</td>\n",
              "      <td>2.000000</td>\n",
              "      <td>20.000000</td>\n",
              "      <td>0.000000</td>\n",
              "      <td>0.000000</td>\n",
              "      <td>9.000000</td>\n",
              "    </tr>\n",
              "    <tr>\n",
              "      <th>max</th>\n",
              "      <td>1.000000</td>\n",
              "      <td>5.000000</td>\n",
              "      <td>2.000000</td>\n",
              "      <td>17.000000</td>\n",
              "      <td>72.000000</td>\n",
              "      <td>716.000000</td>\n",
              "      <td>748.000000</td>\n",
              "      <td>789.000000</td>\n",
              "      <td>3.000000</td>\n",
              "      <td>3.000000</td>\n",
              "      <td>3.000000</td>\n",
              "      <td>3.000000</td>\n",
              "      <td>3.000000</td>\n",
              "      <td>3.000000</td>\n",
              "      <td>3.000000</td>\n",
              "      <td>1.000000</td>\n",
              "      <td>3.000000</td>\n",
              "      <td>3.000000</td>\n",
              "      <td>1.000000</td>\n",
              "      <td>3.000000</td>\n",
              "      <td>3.000000</td>\n",
              "      <td>3.000000</td>\n",
              "      <td>3.000000</td>\n",
              "      <td>1.000000</td>\n",
              "      <td>2.000000</td>\n",
              "      <td>3.000000</td>\n",
              "      <td>3.000000</td>\n",
              "      <td>1.000000</td>\n",
              "      <td>1.000000</td>\n",
              "      <td>1.000000</td>\n",
              "      <td>1.000000</td>\n",
              "      <td>1.000000</td>\n",
              "      <td>1.000000</td>\n",
              "      <td>2.000000</td>\n",
              "      <td>8.000000</td>\n",
              "      <td>28.000000</td>\n",
              "      <td>120.000000</td>\n",
              "      <td>14.000000</td>\n",
              "      <td>132.000000</td>\n",
              "      <td>6.000000</td>\n",
              "      <td>81.000000</td>\n",
              "      <td>42.000000</td>\n",
              "      <td>76.000000</td>\n",
              "      <td>16.000000</td>\n",
              "    </tr>\n",
              "  </tbody>\n",
              "</table>\n",
              "</div>"
            ],
            "text/plain": [
              "        Readmissions           race  ...  number_emergency  number_diagnoses\n",
              "count  101766.000000  101766.000000  ...     101766.000000     101766.000000\n",
              "mean        0.111599       1.725252  ...          0.197836          7.422607\n",
              "std         0.314874       0.963553  ...          0.930472          1.933600\n",
              "min         0.000000       0.000000  ...          0.000000          1.000000\n",
              "25%         0.000000       2.000000  ...          0.000000          6.000000\n",
              "50%         0.000000       2.000000  ...          0.000000          8.000000\n",
              "75%         0.000000       2.000000  ...          0.000000          9.000000\n",
              "max         1.000000       5.000000  ...         76.000000         16.000000\n",
              "\n",
              "[8 rows x 44 columns]"
            ]
          },
          "metadata": {
            "tags": []
          },
          "execution_count": 191
        }
      ]
    },
    {
      "cell_type": "code",
      "metadata": {
        "id": "xbmSBaE9IcTP",
        "colab_type": "code",
        "outputId": "ca6e246b-ca33-4228-afc8-7ca3ad8cd31f",
        "colab": {
          "base_uri": "https://localhost:8080/",
          "height": 817
        }
      },
      "source": [
        "#Pearson Corrrelation understand contributing factors \n",
        "import seaborn as sns\n",
        "\n",
        "#Using Pearson Correlation\n",
        "plt.figure(figsize=(12,12))\n",
        "cor = trail_data.corr()\n",
        "sns.heatmap(cor,  cmap=plt.cm.Reds)\n",
        "plt.show()\n"
      ],
      "execution_count": 0,
      "outputs": [
        {
          "output_type": "display_data",
          "data": {
            "image/png": "[encoded data removed]",
            "text/plain": [
              "<Figure size 864x864 with 2 Axes>"
            ]
          },
          "metadata": {
            "tags": []
          }
        }
      ]
    },
    {
      "cell_type": "markdown",
      "metadata": {
        "id": "7zG36yoWvqcn",
        "colab_type": "text"
      },
      "source": [
        "### Correlation Insights \n",
        "* You can see that there are some interesting correlations with the feature **diabetesMeds**. **Metformin**, **insulin**, etc. which indicate that they are  medicines taken by diabetic patients. One reason could be  assumed that the correlation is that the likelihood of readmitted patients increase when certain medications have not been taken. \n",
        "* **number_diagnoses** does have some correlation with the **diag_2** which probably is due to there being more than 1 diagnosis. \n",
        "* **Citoglipton** and **examide** could be drugs taken at the same time (could be procedure or cocktail) since there is a high correlation between these two drugs. It could also be that symtoms seen in these patients are common symptoms seen in diabetic patients. On second thought, the **discharge_disposition_id**, **admission_source_id**, **examide**, and **citoglipton** seem to be very similar to each other. There could be an issue from a data integrity perspective that may be deemed as an error in the inputation. "
      ]
    },
    {
      "cell_type": "markdown",
      "metadata": {
        "id": "XeA_s4DD0M2H",
        "colab_type": "text"
      },
      "source": [
        "## Model 1 (Logistic Regression)"
      ]
    },
    {
      "cell_type": "code",
      "metadata": {
        "id": "6q-ln11ZEIny",
        "colab_type": "code",
        "outputId": "02e6f157-da8d-4b13-9b7f-cc186a1b6e2a",
        "colab": {
          "base_uri": "https://localhost:8080/",
          "height": 196
        }
      },
      "source": [
        "# Model 1 (Logistic Regression)\n",
        "clf = LogisticRegression(random_state = 0).fit(X_train,y_train)\n",
        "clf_predictions = clf.predict(X_test)\n",
        "\n",
        "\n",
        "# The mean squared error\n",
        "print('Mean squared error: %.2f'  % mean_squared_error(y_test, clf_predictions))\n",
        "# The coefficient of determination: 1 is perfect prediction\n",
        "print('Coefficient of determination: %.2f' % r2_score(y_test, clf_predictions))\n",
        "\n"
      ],
      "execution_count": 0,
      "outputs": [
        {
          "output_type": "stream",
          "text": [
            "Mean squared error: 0.03\n",
            "Coefficient of determination: 0.72\n"
          ],
          "name": "stdout"
        },
        {
          "output_type": "stream",
          "text": [
            "/usr/local/lib/python3.6/dist-packages/sklearn/linear_model/_logistic.py:940: ConvergenceWarning: lbfgs failed to converge (status=1):\n",
            "STOP: TOTAL NO. of ITERATIONS REACHED LIMIT.\n",
            "\n",
            "Increase the number of iterations (max_iter) or scale the data as shown in:\n",
            "    https://scikit-learn.org/stable/modules/preprocessing.html\n",
            "Please also refer to the documentation for alternative solver options:\n",
            "    https://scikit-learn.org/stable/modules/linear_model.html#logistic-regression\n",
            "  extra_warning_msg=_LOGISTIC_SOLVER_CONVERGENCE_MSG)\n"
          ],
          "name": "stderr"
        }
      ]
    },
    {
      "cell_type": "markdown",
      "metadata": {
        "id": "mtTjevdhC2b4",
        "colab_type": "text"
      },
      "source": [
        "Here we are getting a failed to converge using the LBGFS solver; this can be solved by rescaling some of the features to a little more such as the diag_x features as well as removing some of the features that do not seem to correlate to the rest of the information. "
      ]
    },
    {
      "cell_type": "markdown",
      "metadata": {
        "id": "665WF3oG0SdQ",
        "colab_type": "text"
      },
      "source": [
        "## Model 2 (Gradient Descent) "
      ]
    },
    {
      "cell_type": "code",
      "metadata": {
        "id": "i5LpS9JNxKeZ",
        "colab_type": "code",
        "outputId": "3c4a0d10-0b25-4783-e352-6b6d2656cb03",
        "colab": {
          "base_uri": "https://localhost:8080/",
          "height": 52
        }
      },
      "source": [
        "clf_lmsgd = linear_model.SGDClassifier(max_iter=100, tol=1e-3)\n",
        "clf_lmsgd.fit(X_train,y_train)\n",
        "clf_predictions_lmsgd = clf_lmsgd.predict(X_test)\n",
        "\n",
        "# The mean squared error\n",
        "print('Mean squared error: %.2f'  % mean_squared_error(y_test, clf_predictions_lmsgd))\n",
        "# The coefficient of determination: 1 is perfect prediction\n",
        "print('Coefficient of determination: %.2f' % r2_score(y_test, clf_predictions_lmsgd))\n",
        "\n"
      ],
      "execution_count": 0,
      "outputs": [
        {
          "output_type": "stream",
          "text": [
            "Mean squared error: 0.01\n",
            "Coefficient of determination: 0.91\n"
          ],
          "name": "stdout"
        }
      ]
    },
    {
      "cell_type": "markdown",
      "metadata": {
        "id": "yqWCN27-He3o",
        "colab_type": "text"
      },
      "source": [
        "It's always a bit worrisome when a model comes out with mean squared error of almost 0; this seems to be too good to be true. This may be due to the data being generated but this will almost never occur. This you'd want to run as a compilation of data which essentially is boosted trees except runs only once; where the tree is going to run multiple iterations and take the best fit of the data.  "
      ]
    },
    {
      "cell_type": "markdown",
      "metadata": {
        "id": "20XYJPcQ4sEz",
        "colab_type": "text"
      },
      "source": [
        "## Model 3 (Boosted Trees) \n"
      ]
    },
    {
      "cell_type": "code",
      "metadata": {
        "id": "bc0U7tHC6eIb",
        "colab_type": "code",
        "outputId": "a502293b-4dab-44c1-be36-fa7856d833e6",
        "colab": {
          "base_uri": "https://localhost:8080/",
          "height": 52
        }
      },
      "source": [
        "from sklearn import tree\n",
        "\n",
        "clf_tree = tree.DecisionTreeClassifier()\n",
        "clf_tree = clf_tree.fit(X_train,y_train)\n",
        "clf_predictions_tree= clf_tree.predict(X_test)\n",
        "\n",
        "# The mean squared error\n",
        "print('Mean squared error: %.2f'  % mean_squared_error(y_test, clf_predictions_tree))\n",
        "# The coefficient of determination: 1 is perfect prediction\n",
        "print('Coefficient of determination: %.2f' % r2_score(y_test, clf_predictions_tree))\n"
      ],
      "execution_count": 0,
      "outputs": [
        {
          "output_type": "stream",
          "text": [
            "Mean squared error: 0.00\n",
            "Coefficient of determination: 1.00\n"
          ],
          "name": "stdout"
        }
      ]
    },
    {
      "cell_type": "code",
      "metadata": {
        "id": "31R3zow497Ql",
        "colab_type": "code",
        "outputId": "a0bb324f-57dd-49af-bbbc-5b9a9c9fa188",
        "colab": {
          "base_uri": "https://localhost:8080/",
          "height": 301
        }
      },
      "source": [
        "tree.plot_tree(clf_tree.fit(X_test,y_test)) "
      ],
      "execution_count": 0,
      "outputs": [
        {
          "output_type": "execute_result",
          "data": {
            "text/plain": [
              "[Text(167.4, 163.07999999999998, 'X[32] <= 0.5\\ngini = 0.199\\nsamples = 25442\\nvalue = [22593, 2849]'),\n",
              " Text(83.7, 54.360000000000014, 'gini = 0.0\\nsamples = 2849\\nvalue = [0, 2849]'),\n",
              " Text(251.10000000000002, 54.360000000000014, 'gini = 0.0\\nsamples = 22593\\nvalue = [22593, 0]')]"
            ]
          },
          "metadata": {
            "tags": []
          },
          "execution_count": 192
        },
        {
          "output_type": "display_data",
          "data": {
            "image/png": "[encoded data removed]",
            "text/plain": [
              "<Figure size 432x288 with 1 Axes>"
            ]
          },
          "metadata": {
            "tags": []
          }
        }
      ]
    },
    {
      "cell_type": "markdown",
      "metadata": {
        "id": "2szgrDbO609z",
        "colab_type": "text"
      },
      "source": [
        "# Part 3: Communicate Findings "
      ]
    },
    {
      "cell_type": "markdown",
      "metadata": {
        "id": "UM2oh1rz647O",
        "colab_type": "text"
      },
      "source": [
        "## The business owner you are partnering with asks for an update on the project. What do you tell her?\n"
      ]
    },
    {
      "cell_type": "markdown",
      "metadata": {
        "id": "yHOXKlg26-Ju",
        "colab_type": "text"
      },
      "source": [
        "Some of the insights I have spread out across each of the models to ensure better flow of this information. But I would come to say: \n",
        "\n",
        "Currently we have created a preliminary model that has an R^2 of 1 based on the dataset that has been given. This essentially means that the model accurately predicted the test cases almost all of the time. \n",
        "\n",
        "This is very suspect as there is never a model that is 100% accurate and would lead me to believe that there is either an error or the model is overfitted (i.e. too biased for the dataset and won't be very useful without more data to confirm the models). \n",
        "\n",
        "I'd also take the opportunity to ask her any outstanding questions as have been outlined in the above. \n",
        "\n",
        "* I'd also want to confirm the insights seen within the data (See above in the EDA section)\n",
        "* What is the data sources? \n",
        "* What are the error limits for the devices (specifically readings that are real time) \n",
        "\n",
        "## Insights / Next Steps \n",
        "There are a number of other things that you may want try out but due to time to spend I've cut it off here and decided to identify other significant pieces of the puzzle. \n",
        "\n",
        "* Date stamp, feature engineer day, month, and year into the data \n",
        "* Eliminate some of the other features that don't correlate and rerun the models to see what their difference makes \n",
        "*  I'd setup a pipeline of this dataset so that I might be able to iterate through more models and ultimately have the ability to create an esemble of the data if need be. (There are other concerns such as compute time, time to run and size that would need to be included in this information). \n",
        "  * That will provide a framework by which I can evaluate multiple models as well ensuring that I am able to find the best fit of the information. (Also, as you might prune different features, being able to easily track them is incredibly important and can quickly get away from you if not careful).  \n",
        "* Deploy a CV strategy to ensure that I do not overfit the model \n",
        "\n",
        "Now there is a caveat to this as there are fewer readmissions than hospital stays. We must better understand these true readmissions and what is fuelling these readmissions within the dataset. "
      ]
    },
    {
      "cell_type": "markdown",
      "metadata": {
        "id": "vIhhm1gjBYqm",
        "colab_type": "text"
      },
      "source": [
        "## Addendum "
      ]
    },
    {
      "cell_type": "code",
      "metadata": {
        "id": "Hh6u9XoJrysY",
        "colab_type": "code",
        "colab": {}
      },
      "source": [
        "diabetes_ds[\"time_in_hospital\"].plot.hist()"
      ],
      "execution_count": 0,
      "outputs": []
    },
    {
      "cell_type": "code",
      "metadata": {
        "id": "5D5Xc7nJ91fR",
        "colab_type": "code",
        "colab": {}
      },
      "source": [
        "diabetes_ds[diabetes_ds[\"Readmissions\"] == 1]\n",
        "categorical = [['race','payer_code','medical_specialty','max_glu_serum','A1Cresult','metformin','repaglinide','' ]]"
      ],
      "execution_count": 0,
      "outputs": []
    },
    {
      "cell_type": "code",
      "metadata": {
        "id": "XOQqxHOF_jmN",
        "colab_type": "code",
        "colab": {}
      },
      "source": [
        "diabetes_ds[]"
      ],
      "execution_count": 0,
      "outputs": []
    },
    {
      "cell_type": "code",
      "metadata": {
        "id": "YumcbXtz_stg",
        "colab_type": "code",
        "colab": {}
      },
      "source": [
        ""
      ],
      "execution_count": 0,
      "outputs": []
    }
  ]
}